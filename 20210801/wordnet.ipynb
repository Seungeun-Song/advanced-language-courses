{
 "cells": [
  {
   "cell_type": "code",
   "execution_count": 1,
   "source": [
    "import nltk\r\n",
    "nltk.download(\"wordnet\")"
   ],
   "outputs": [
    {
     "output_type": "stream",
     "name": "stderr",
     "text": [
      "[nltk_data] Downloading package wordnet to\n",
      "[nltk_data]     C:\\Users\\SONG\\AppData\\Roaming\\nltk_data...\n",
      "[nltk_data]   Package wordnet is already up-to-date!\n"
     ]
    },
    {
     "output_type": "execute_result",
     "data": {
      "text/plain": [
       "True"
      ]
     },
     "metadata": {},
     "execution_count": 1
    }
   ],
   "metadata": {}
  },
  {
   "cell_type": "code",
   "execution_count": 2,
   "source": [
    "from textblob import Word\r\n",
    "\r\n",
    "word = Word(\"defend\")\r\n",
    "type(word), len(word), word"
   ],
   "outputs": [
    {
     "output_type": "execute_result",
     "data": {
      "text/plain": [
       "(textblob.blob.Word, 6, 'defend')"
      ]
     },
     "metadata": {},
     "execution_count": 2
    }
   ],
   "metadata": {}
  },
  {
   "cell_type": "code",
   "execution_count": 3,
   "source": [
    "synsets = word.get_synsets()\r\n",
    "type(synsets), len(synsets), synsets"
   ],
   "outputs": [
    {
     "output_type": "execute_result",
     "data": {
      "text/plain": [
       "(list,\n",
       " 7,\n",
       " [Synset('defend.v.01'),\n",
       "  Synset('defend.v.02'),\n",
       "  Synset('defend.v.03'),\n",
       "  Synset('fight.v.02'),\n",
       "  Synset('champion.v.01'),\n",
       "  Synset('defend.v.06'),\n",
       "  Synset('maintain.v.08')])"
      ]
     },
     "metadata": {},
     "execution_count": 3
    }
   ],
   "metadata": {}
  },
  {
   "cell_type": "code",
   "execution_count": 12,
   "source": [
    "first_syn = synsets[3]\r\n",
    "type(first_syn), first_syn, first_syn.name(), first_syn.lemmas()"
   ],
   "outputs": [
    {
     "output_type": "execute_result",
     "data": {
      "text/plain": [
       "(nltk.corpus.reader.wordnet.Synset,\n",
       " Synset('fight.v.02'),\n",
       " 'fight.v.02',\n",
       " [Lemma('fight.v.02.fight'),\n",
       "  Lemma('fight.v.02.oppose'),\n",
       "  Lemma('fight.v.02.fight_back'),\n",
       "  Lemma('fight.v.02.fight_down'),\n",
       "  Lemma('fight.v.02.defend')])"
      ]
     },
     "metadata": {},
     "execution_count": 12
    }
   ],
   "metadata": {}
  },
  {
   "cell_type": "code",
   "execution_count": 13,
   "source": [
    "lemmas = first_syn.lemmas()\r\n",
    "for lem in lemmas:\r\n",
    "    print(lem.name())"
   ],
   "outputs": [
    {
     "output_type": "stream",
     "name": "stdout",
     "text": [
      "fight\n",
      "oppose\n",
      "fight_back\n",
      "fight_down\n",
      "defend\n"
     ]
    }
   ],
   "metadata": {}
  },
  {
   "cell_type": "code",
   "execution_count": 20,
   "source": [
    "string = \"terrific\"\r\n",
    "result = []\r\n",
    "\r\n",
    "word = Word(string)\r\n",
    "\r\n",
    "for syn in word.get_synsets():\r\n",
    "    for lem in syn.lemmas():\r\n",
    "        if lem.name() != string:\r\n",
    "            result.append(lem.name())\r\n",
    "\r\n",
    "print(result)\r\n",
    "    "
   ],
   "outputs": [
    {
     "output_type": "stream",
     "name": "stdout",
     "text": [
      "['fantastic', 'grand', 'howling', 'marvelous', 'marvellous', 'rattling', 'tremendous', 'wonderful', 'wondrous', 'terrifying']\n"
     ]
    }
   ],
   "metadata": {}
  },
  {
   "cell_type": "code",
   "execution_count": 29,
   "source": [
    "for syn in word.get_synsets():\r\n",
    "    print(syn, \"\\n\")\r\n",
    "    for lem in syn.lemmas():\r\n",
    "        print(lem)\r\n",
    "    print( \"-------\")"
   ],
   "outputs": [
    {
     "output_type": "stream",
     "name": "stdout",
     "text": [
      "Synset('terrific.s.01') \n",
      "\n",
      "Lemma('terrific.s.01.terrific')\n",
      "-------\n",
      "Synset('fantastic.s.02') \n",
      "\n",
      "Lemma('fantastic.s.02.fantastic')\n",
      "Lemma('fantastic.s.02.grand')\n",
      "Lemma('fantastic.s.02.howling')\n",
      "Lemma('fantastic.s.02.marvelous')\n",
      "Lemma('fantastic.s.02.marvellous')\n",
      "Lemma('fantastic.s.02.rattling')\n",
      "Lemma('fantastic.s.02.terrific')\n",
      "Lemma('fantastic.s.02.tremendous')\n",
      "Lemma('fantastic.s.02.wonderful')\n",
      "Lemma('fantastic.s.02.wondrous')\n",
      "-------\n",
      "Synset('terrific.s.03') \n",
      "\n",
      "Lemma('terrific.s.03.terrific')\n",
      "Lemma('terrific.s.03.terrifying')\n",
      "-------\n"
     ]
    }
   ],
   "metadata": {}
  },
  {
   "cell_type": "code",
   "execution_count": null,
   "source": [],
   "outputs": [],
   "metadata": {}
  }
 ],
 "metadata": {
  "orig_nbformat": 4,
  "language_info": {
   "name": "python",
   "version": "3.9.6",
   "mimetype": "text/x-python",
   "codemirror_mode": {
    "name": "ipython",
    "version": 3
   },
   "pygments_lexer": "ipython3",
   "nbconvert_exporter": "python",
   "file_extension": ".py"
  },
  "kernelspec": {
   "name": "python3",
   "display_name": "Python 3.9.6 64-bit ('venv_20210801': venv)"
  },
  "interpreter": {
   "hash": "a977267ec56a34a7ce6db9084daf1ac544d5b153aac5928c54b134f0d70f85ef"
  }
 },
 "nbformat": 4,
 "nbformat_minor": 2
}