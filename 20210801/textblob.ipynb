{
 "cells": [
  {
   "cell_type": "code",
   "execution_count": null,
   "source": [
    "!pip install textblob\r\n",
    "!pip freeze > requirements.txt"
   ],
   "outputs": [],
   "metadata": {}
  },
  {
   "cell_type": "code",
   "execution_count": 2,
   "source": [
    "from textblob import TextBlob\r\n",
    "\r\n",
    "text = \"In this course we will learn how to perform NLP with TextBlob. TextBlob is a Phython package that's built on top of the famous Python package called NLTK.\""
   ],
   "outputs": [],
   "metadata": {}
  },
  {
   "cell_type": "code",
   "execution_count": 3,
   "source": [
    "blob = TextBlob(text)\r\n",
    "type(blob), len(blob)"
   ],
   "outputs": [
    {
     "output_type": "execute_result",
     "data": {
      "text/plain": [
       "(textblob.blob.TextBlob, 154)"
      ]
     },
     "metadata": {},
     "execution_count": 3
    }
   ],
   "metadata": {}
  },
  {
   "cell_type": "code",
   "execution_count": 5,
   "source": [
    "import nltk\r\n",
    "nltk.download(\"punkt\")"
   ],
   "outputs": [
    {
     "output_type": "stream",
     "name": "stderr",
     "text": [
      "[nltk_data] Downloading package punkt to\n",
      "[nltk_data]     C:\\Users\\SONG\\AppData\\Roaming\\nltk_data...\n",
      "[nltk_data]   Package punkt is already up-to-date!\n"
     ]
    },
    {
     "output_type": "execute_result",
     "data": {
      "text/plain": [
       "True"
      ]
     },
     "metadata": {},
     "execution_count": 5
    }
   ],
   "metadata": {}
  },
  {
   "cell_type": "code",
   "execution_count": 6,
   "source": [
    "result = blob.words\r\n",
    "type(result), len(result), result"
   ],
   "outputs": [
    {
     "output_type": "execute_result",
     "data": {
      "text/plain": [
       "(textblob.blob.WordList,\n",
       " 29,\n",
       " WordList(['In', 'this', 'course', 'we', 'will', 'learn', 'how', 'to', 'perform', 'NLP', 'with', 'TextBlob', 'TextBlob', 'is', 'a', 'Phython', 'package', 'that', \"'s\", 'built', 'on', 'top', 'of', 'the', 'famous', 'Python', 'package', 'called', 'NLTK']))"
      ]
     },
     "metadata": {},
     "execution_count": 6
    }
   ],
   "metadata": {}
  },
  {
   "cell_type": "code",
   "execution_count": 9,
   "source": [
    "type(result[5]), len(result[5]), result[5]"
   ],
   "outputs": [
    {
     "output_type": "execute_result",
     "data": {
      "text/plain": [
       "(textblob.blob.Word, 5, 'learn')"
      ]
     },
     "metadata": {},
     "execution_count": 9
    }
   ],
   "metadata": {}
  },
  {
   "cell_type": "code",
   "execution_count": 10,
   "source": [
    "new_string = \"Test \"+result[0]\r\n",
    "type(new_string), len(new_string), new_string"
   ],
   "outputs": [
    {
     "output_type": "execute_result",
     "data": {
      "text/plain": [
       "(str, 7, 'Test In')"
      ]
     },
     "metadata": {},
     "execution_count": 10
    }
   ],
   "metadata": {}
  },
  {
   "cell_type": "code",
   "execution_count": 12,
   "source": [
    "type(result[5].string), len(result[5].string), result[5].string"
   ],
   "outputs": [
    {
     "output_type": "execute_result",
     "data": {
      "text/plain": [
       "(str, 5, 'learn')"
      ]
     },
     "metadata": {},
     "execution_count": 12
    }
   ],
   "metadata": {}
  },
  {
   "cell_type": "code",
   "execution_count": 13,
   "source": [
    "sentences = blob.sentences\r\n",
    "type(sentences), len(sentences), sentences"
   ],
   "outputs": [
    {
     "output_type": "execute_result",
     "data": {
      "text/plain": [
       "(list,\n",
       " 2,\n",
       " [Sentence(\"In this course we will learn how to perform NLP with TextBlob.\"),\n",
       "  Sentence(\"TextBlob is a Phython package that's built on top of the famous Python package called NLTK.\")])"
      ]
     },
     "metadata": {},
     "execution_count": 13
    }
   ],
   "metadata": {}
  },
  {
   "cell_type": "code",
   "execution_count": 14,
   "source": [
    "for sentence in sentences:\r\n",
    "    print(type(sentence), len(sentence), sentence)"
   ],
   "outputs": [
    {
     "output_type": "stream",
     "name": "stdout",
     "text": [
      "<class 'textblob.blob.Sentence'> 62 In this course we will learn how to perform NLP with TextBlob.\n",
      "<class 'textblob.blob.Sentence'> 91 TextBlob is a Phython package that's built on top of the famous Python package called NLTK.\n"
     ]
    }
   ],
   "metadata": {}
  },
  {
   "cell_type": "code",
   "execution_count": 15,
   "source": [
    "type(sentences[0]), len(sentences[0]), sentences[0]"
   ],
   "outputs": [
    {
     "output_type": "execute_result",
     "data": {
      "text/plain": [
       "(textblob.blob.Sentence,\n",
       " 62,\n",
       " Sentence(\"In this course we will learn how to perform NLP with TextBlob.\"))"
      ]
     },
     "metadata": {},
     "execution_count": 15
    }
   ],
   "metadata": {}
  },
  {
   "cell_type": "code",
   "execution_count": 16,
   "source": [
    "sentence = sentences[1]\r\n",
    "sentence.detect_language()"
   ],
   "outputs": [
    {
     "output_type": "execute_result",
     "data": {
      "text/plain": [
       "'en'"
      ]
     },
     "metadata": {},
     "execution_count": 16
    }
   ],
   "metadata": {}
  },
  {
   "cell_type": "code",
   "execution_count": 18,
   "source": [
    "type(sentence.string), len(sentence.string), sentence.string"
   ],
   "outputs": [
    {
     "output_type": "execute_result",
     "data": {
      "text/plain": [
       "(str,\n",
       " 91,\n",
       " \"TextBlob is a Phython package that's built on top of the famous Python package called NLTK.\")"
      ]
     },
     "metadata": {},
     "execution_count": 18
    }
   ],
   "metadata": {}
  },
  {
   "cell_type": "code",
   "execution_count": 19,
   "source": [
    "sentence.translate"
   ],
   "outputs": [
    {
     "output_type": "execute_result",
     "data": {
      "text/plain": [
       "<bound method BaseBlob.translate of Sentence(\"TextBlob is a Phython package that's built on top of the famous Python package called NLTK.\")>"
      ]
     },
     "metadata": {},
     "execution_count": 19
    }
   ],
   "metadata": {}
  },
  {
   "cell_type": "code",
   "execution_count": 20,
   "source": [
    "sentence.title"
   ],
   "outputs": [
    {
     "output_type": "execute_result",
     "data": {
      "text/plain": [
       "<bound method StringlikeMixin.title of Sentence(\"TextBlob is a Phython package that's built on top of the famous Python package called NLTK.\")>"
      ]
     },
     "metadata": {},
     "execution_count": 20
    }
   ],
   "metadata": {}
  },
  {
   "cell_type": "code",
   "execution_count": 22,
   "source": [
    "from nltk.tokenize import WhitespaceTokenizer\r\n",
    "\r\n",
    "tokenizer = WhitespaceTokenizer()\r\n",
    "text_2 = \"text test\\ntest\\ttest\"\r\n"
   ],
   "outputs": [],
   "metadata": {}
  },
  {
   "cell_type": "code",
   "execution_count": 24,
   "source": [
    "blob_2 = TextBlob(text_2, tokenizer = tokenizer)\r\n",
    "type(blob_2), len(blob_2), blob_2"
   ],
   "outputs": [
    {
     "output_type": "execute_result",
     "data": {
      "text/plain": [
       "(textblob.blob.TextBlob,\n",
       " 19,\n",
       " TextBlob(\"text test\n",
       " test\ttest\"))"
      ]
     },
     "metadata": {},
     "execution_count": 24
    }
   ],
   "metadata": {}
  },
  {
   "cell_type": "code",
   "execution_count": 25,
   "source": [
    "blob_2.tokens"
   ],
   "outputs": [
    {
     "output_type": "execute_result",
     "data": {
      "text/plain": [
       "WordList(['text', 'test', 'test', 'test'])"
      ]
     },
     "metadata": {},
     "execution_count": 25
    }
   ],
   "metadata": {}
  },
  {
   "cell_type": "code",
   "execution_count": 29,
   "source": [
    "blob_3 = TextBlob(\"I ran a race in Ottawa\")\r\n",
    "type(blob_3), len(blob_3), blob_3"
   ],
   "outputs": [
    {
     "output_type": "execute_result",
     "data": {
      "text/plain": [
       "(textblob.blob.TextBlob, 22, TextBlob(\"I ran a race in Ottawa\"))"
      ]
     },
     "metadata": {},
     "execution_count": 29
    }
   ],
   "metadata": {}
  },
  {
   "cell_type": "code",
   "execution_count": 31,
   "source": [
    "pos = blob_3.tags\r\n",
    "type(pos), len(pos), pos"
   ],
   "outputs": [
    {
     "output_type": "execute_result",
     "data": {
      "text/plain": [
       "(list,\n",
       " 6,\n",
       " [('I', 'PRP'),\n",
       "  ('ran', 'VBD'),\n",
       "  ('a', 'DT'),\n",
       "  ('race', 'NN'),\n",
       "  ('in', 'IN'),\n",
       "  ('Ottawa', 'NNP')])"
      ]
     },
     "metadata": {},
     "execution_count": 31
    }
   ],
   "metadata": {}
  },
  {
   "cell_type": "code",
   "execution_count": 32,
   "source": [
    "first = pos[0]\r\n",
    "type(first), len(first), first"
   ],
   "outputs": [
    {
     "output_type": "execute_result",
     "data": {
      "text/plain": [
       "(tuple, 2, ('I', 'PRP'))"
      ]
     },
     "metadata": {},
     "execution_count": 32
    }
   ],
   "metadata": {}
  },
  {
   "cell_type": "code",
   "execution_count": 35,
   "source": [
    "print(type(first[0]), len(first[0]), first[0])\r\n",
    "print(type(first[1]), len(first[1]), first[1])"
   ],
   "outputs": [
    {
     "output_type": "stream",
     "name": "stdout",
     "text": [
      "<class 'textblob.blob.Word'> 1 I\n",
      "<class 'str'> 3 PRP\n"
     ]
    }
   ],
   "metadata": {}
  },
  {
   "cell_type": "code",
   "execution_count": 48,
   "source": [
    "blob_4 = TextBlob(\"Americans live in the USA\")\r\n",
    "pos = blob_4.tags\r\n",
    "\r\n",
    "result = []\r\n",
    "for p in pos:\r\n",
    "    if p[1] == \"NNPS\" or p[1] ==\"NNP\":\r\n",
    "        result.append(p[0])\r\n",
    "\r\n",
    "\r\n",
    "print(result)\r\n"
   ],
   "outputs": [
    {
     "output_type": "stream",
     "name": "stdout",
     "text": [
      "['Americans', 'USA']\n"
     ]
    }
   ],
   "metadata": {}
  },
  {
   "cell_type": "code",
   "execution_count": 49,
   "source": [
    "tags = [\"NNP\", \"NNPS\"]\r\n",
    "\"NNP\" in tags"
   ],
   "outputs": [
    {
     "output_type": "execute_result",
     "data": {
      "text/plain": [
       "True"
      ]
     },
     "metadata": {},
     "execution_count": 49
    }
   ],
   "metadata": {}
  },
  {
   "cell_type": "code",
   "execution_count": 51,
   "source": [
    "user_input = input()\r\n",
    "\r\n",
    "user_blob = TextBlob(user_input)\r\n",
    "\r\n",
    "result = []\r\n",
    "\r\n",
    "for pos_tuple in user_blob.tags:\r\n",
    "    if pos_tuple[1] in tags:\r\n",
    "        result.append(pos_tuple[0].string)\r\n",
    "\r\n",
    "print(result)"
   ],
   "outputs": [
    {
     "output_type": "stream",
     "name": "stdout",
     "text": [
      "['Americans', 'USA']\n"
     ]
    }
   ],
   "metadata": {}
  },
  {
   "cell_type": "code",
   "execution_count": null,
   "source": [],
   "outputs": [],
   "metadata": {}
  }
 ],
 "metadata": {
  "orig_nbformat": 4,
  "language_info": {
   "name": "python",
   "version": "3.9.6",
   "mimetype": "text/x-python",
   "codemirror_mode": {
    "name": "ipython",
    "version": 3
   },
   "pygments_lexer": "ipython3",
   "nbconvert_exporter": "python",
   "file_extension": ".py"
  },
  "kernelspec": {
   "name": "python3",
   "display_name": "Python 3.9.6 64-bit ('venv_20210801': venv)"
  },
  "interpreter": {
   "hash": "a977267ec56a34a7ce6db9084daf1ac544d5b153aac5928c54b134f0d70f85ef"
  }
 },
 "nbformat": 4,
 "nbformat_minor": 2
}