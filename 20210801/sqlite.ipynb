{
 "cells": [
  {
   "cell_type": "code",
   "execution_count": 1,
   "source": [
    "import sqlite3\r\n",
    "\r\n",
    "conn = sqlite3.connect(\"coffee.db\")\r\n",
    "print(\"Database 생성 및 연결\")"
   ],
   "outputs": [
    {
     "output_type": "stream",
     "name": "stdout",
     "text": [
      "Database 생성 및 연결\n"
     ]
    }
   ],
   "metadata": {}
  },
  {
   "cell_type": "code",
   "execution_count": 2,
   "source": [
    "conn.execute('''\r\n",
    "    CREATE TABLE users (\r\n",
    "        id      INT      PRIMARY KEY NOT NULL,\r\n",
    "        name    TEXT    NOT NULL\r\n",
    "    )\r\n",
    "''')\r\n",
    "\r\n",
    "print(\"테이블이 생성되었습니다\")"
   ],
   "outputs": [
    {
     "output_type": "stream",
     "name": "stdout",
     "text": [
      "테이블이 생성되었습니다\n"
     ]
    }
   ],
   "metadata": {}
  },
  {
   "cell_type": "code",
   "execution_count": 3,
   "source": [
    "conn.execute('''\r\n",
    "    INSERT INTO users (id, name)\r\n",
    "    VALUES (1, \"김철수\")\r\n",
    "''')\r\n",
    "\r\n",
    "conn.execute('''\r\n",
    "    INSERT INTO users (id, name)\r\n",
    "    VALUES (2, \"이영희\")\r\n",
    "''')\r\n",
    "\r\n",
    "conn.execute('''\r\n",
    "    INSERT INTO users (id, name)\r\n",
    "    VALUES (3, \"이동국\")\r\n",
    "''')\r\n",
    "\r\n",
    "conn.execute('''\r\n",
    "    INSERT INTO users (id, name)\r\n",
    "    VALUES (4, \"안정환\")\r\n",
    "''')\r\n",
    "\r\n",
    "conn.commit()"
   ],
   "outputs": [],
   "metadata": {}
  },
  {
   "cell_type": "code",
   "execution_count": 11,
   "source": [
    "cursor = conn.execute('''\r\n",
    "    SELECT * FROM USERS\r\n",
    "''')"
   ],
   "outputs": [],
   "metadata": {}
  },
  {
   "cell_type": "code",
   "execution_count": 12,
   "source": [
    "type(cursor)"
   ],
   "outputs": [
    {
     "output_type": "execute_result",
     "data": {
      "text/plain": [
       "sqlite3.Cursor"
      ]
     },
     "metadata": {},
     "execution_count": 12
    }
   ],
   "metadata": {}
  },
  {
   "cell_type": "code",
   "execution_count": 13,
   "source": [
    "for row in cursor:\r\n",
    "    print(row, type(row))"
   ],
   "outputs": [
    {
     "output_type": "stream",
     "name": "stdout",
     "text": [
      "(1, '김철수') <class 'tuple'>\n",
      "(2, '이영희') <class 'tuple'>\n",
      "(3, '이동국') <class 'tuple'>\n",
      "(4, '안정환') <class 'tuple'>\n"
     ]
    }
   ],
   "metadata": {}
  },
  {
   "cell_type": "code",
   "execution_count": 14,
   "source": [
    "cursor = conn.execute('''\r\n",
    "    SELECT ID FROM USERS\r\n",
    "''')"
   ],
   "outputs": [],
   "metadata": {}
  },
  {
   "cell_type": "code",
   "execution_count": 15,
   "source": [
    "for row in cursor:\r\n",
    "    print(row)"
   ],
   "outputs": [
    {
     "output_type": "stream",
     "name": "stdout",
     "text": [
      "(1,)\n",
      "(2,)\n",
      "(3,)\n",
      "(4,)\n"
     ]
    }
   ],
   "metadata": {}
  },
  {
   "cell_type": "code",
   "execution_count": 17,
   "source": [
    "cursor = conn.execute('''\r\n",
    "    SELECT name FROM USERS\r\n",
    "''')"
   ],
   "outputs": [],
   "metadata": {}
  },
  {
   "cell_type": "code",
   "execution_count": 18,
   "source": [
    "for row in cursor:\r\n",
    "    print(row)"
   ],
   "outputs": [
    {
     "output_type": "stream",
     "name": "stdout",
     "text": [
      "('김철수',)\n",
      "('이영희',)\n",
      "('이동국',)\n",
      "('안정환',)\n"
     ]
    }
   ],
   "metadata": {}
  },
  {
   "cell_type": "code",
   "execution_count": 22,
   "source": [
    "conn.execute('''\r\n",
    "    DELETE FROM USERS WHERE ID = 4\r\n",
    "''')\r\n",
    "\r\n",
    "conn.commit()"
   ],
   "outputs": [],
   "metadata": {}
  },
  {
   "cell_type": "code",
   "execution_count": 21,
   "source": [
    "cursor = conn.execute('''\r\n",
    "    SELECT * FROM USERS\r\n",
    "''')\r\n",
    "for row in cursor:\r\n",
    "    print(row)"
   ],
   "outputs": [
    {
     "output_type": "stream",
     "name": "stdout",
     "text": [
      "(1, '김철수')\n",
      "(2, '이영희')\n",
      "(3, '이동국')\n"
     ]
    }
   ],
   "metadata": {}
  },
  {
   "cell_type": "code",
   "execution_count": 23,
   "source": [
    "conn.execute('''\r\n",
    "    DELETE FROM USERS \r\n",
    "    WHERE ID > 1\r\n",
    "''')\r\n",
    "\r\n",
    "cursor = conn.execute('''\r\n",
    "    SELECT * FROM USERS\r\n",
    "''')\r\n",
    "\r\n",
    "for row in cursor:\r\n",
    "    print(row)\r\n"
   ],
   "outputs": [
    {
     "output_type": "stream",
     "name": "stdout",
     "text": [
      "(1, '김철수')\n"
     ]
    }
   ],
   "metadata": {}
  },
  {
   "cell_type": "code",
   "execution_count": 4,
   "source": [
    "conn.execute('''\r\n",
    "    UPDATE USERS\r\n",
    "    SET NAME = \"이강인\"\r\n",
    "    WHERE ID = 2\r\n",
    "''')\r\n",
    "conn.commit()\r\n",
    "\r\n",
    "cursor = conn.execute('''\r\n",
    "    SELECT * FROM USERS\r\n",
    "''')\r\n",
    "\r\n",
    "for row in cursor:\r\n",
    "    print(row)"
   ],
   "outputs": [
    {
     "output_type": "stream",
     "name": "stdout",
     "text": [
      "(1, '김철수')\n",
      "(2, '이강인')\n",
      "(3, '이동국')\n",
      "(4, '안정환')\n"
     ]
    }
   ],
   "metadata": {}
  },
  {
   "cell_type": "code",
   "execution_count": null,
   "source": [],
   "outputs": [],
   "metadata": {}
  }
 ],
 "metadata": {
  "orig_nbformat": 4,
  "language_info": {
   "name": "python",
   "version": "3.9.6",
   "mimetype": "text/x-python",
   "codemirror_mode": {
    "name": "ipython",
    "version": 3
   },
   "pygments_lexer": "ipython3",
   "nbconvert_exporter": "python",
   "file_extension": ".py"
  },
  "kernelspec": {
   "name": "python3",
   "display_name": "Python 3.9.6 64-bit ('venv_20210801': venv)"
  },
  "interpreter": {
   "hash": "a977267ec56a34a7ce6db9084daf1ac544d5b153aac5928c54b134f0d70f85ef"
  }
 },
 "nbformat": 4,
 "nbformat_minor": 2
}