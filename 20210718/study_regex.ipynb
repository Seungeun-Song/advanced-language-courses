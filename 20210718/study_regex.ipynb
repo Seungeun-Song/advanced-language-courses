{
 "cells": [
  {
   "cell_type": "markdown",
   "source": [
    "## study_regex.ipynb - regex = 정규식(regular expression)\r\n",
    "\r\n",
    "1, PDF에서 내용을 추출 -> 추출한 내용에서 특정 부분을 추출할 떄 </br>\r\n",
    "2, 주민등록번호, 이메일 주소, 핸드폰 번호 등의 특정 패턴을 찾고자 할 때\r\n",
    "\r\n",
    "ex, regexr.com"
   ],
   "metadata": {}
  },
  {
   "cell_type": "code",
   "execution_count": 2,
   "source": [
    "import re"
   ],
   "outputs": [],
   "metadata": {}
  },
  {
   "cell_type": "code",
   "execution_count": 3,
   "source": [
    "re.findall(\"abc\",\"sdyfabcgdhjkjhfsadfabchgjhkgjgfs\")"
   ],
   "outputs": [
    {
     "output_type": "execute_result",
     "data": {
      "text/plain": [
       "['abc', 'abc']"
      ]
     },
     "metadata": {},
     "execution_count": 3
    }
   ],
   "metadata": {}
  },
  {
   "cell_type": "code",
   "execution_count": 4,
   "source": [
    "# finditer()\t정규식과 매치되는 모든 문자열(substring)을 반복 가능한 객체로 돌려준다.\r\n",
    "iterator = re.finditer(\"abc\",\"sdyfabcgdhjkjhfsadfabchgjhkgjgfs\")"
   ],
   "outputs": [],
   "metadata": {}
  },
  {
   "cell_type": "code",
   "execution_count": 8,
   "source": [
    "print(iterator)\r\n",
    "print(type(iterator))"
   ],
   "outputs": [
    {
     "output_type": "stream",
     "name": "stdout",
     "text": [
      "<callable_iterator object at 0x000001B534E2B3A0>\n",
      "<class 'callable_iterator'>\n"
     ]
    }
   ],
   "metadata": {}
  },
  {
   "cell_type": "code",
   "execution_count": 5,
   "source": [
    "for match in iterator:\r\n",
    "    print(match.group())"
   ],
   "outputs": [
    {
     "output_type": "stream",
     "name": "stdout",
     "text": [
      "abc\n",
      "abc\n"
     ]
    }
   ],
   "metadata": {}
  },
  {
   "cell_type": "code",
   "execution_count": 6,
   "source": [
    "for match in re.findall(\"abc\",\"sdyfabcgdhjkjhfsadfabchgjhkgjgfs\"):\r\n",
    "    print(match)"
   ],
   "outputs": [
    {
     "output_type": "stream",
     "name": "stdout",
     "text": [
      "abc\n",
      "abc\n"
     ]
    }
   ],
   "metadata": {}
  },
  {
   "cell_type": "code",
   "execution_count": 5,
   "source": [
    "#[ ] 일치시키려는 문자 집합인 문자 클래스를 지정하는데 사용\r\n",
    "re.findall(\"abc\",\"adsgdhjabcgkl;ipokjnabcb;zfx\")"
   ],
   "outputs": [
    {
     "output_type": "execute_result",
     "data": {
      "text/plain": [
       "['abc', 'abc']"
      ]
     },
     "metadata": {},
     "execution_count": 5
    }
   ],
   "metadata": {}
  },
  {
   "cell_type": "code",
   "execution_count": 7,
   "source": [
    "re.findall(\"[ac]\",\"adsgdhjabcgkl;ipokjnabcb;zfx\")"
   ],
   "outputs": [
    {
     "output_type": "execute_result",
     "data": {
      "text/plain": [
       "['a', 'a', 'c', 'a', 'c']"
      ]
     },
     "metadata": {},
     "execution_count": 7
    }
   ],
   "metadata": {}
  },
  {
   "cell_type": "code",
   "execution_count": 9,
   "source": [
    "# - 로 문자 클래스의 범위를 지정할 수 있다\r\n",
    "re.findall(\"[a-d]\",\"adsgdhjabcgkl;ipokjnabcb;zfx\")"
   ],
   "outputs": [
    {
     "output_type": "execute_result",
     "data": {
      "text/plain": [
       "['a', 'd', 'd', 'a', 'b', 'c', 'a', 'b', 'c', 'b']"
      ]
     },
     "metadata": {},
     "execution_count": 9
    }
   ],
   "metadata": {}
  },
  {
   "cell_type": "code",
   "execution_count": 12,
   "source": [
    "# 퀴즈 1: 제시한 문자열에서 숫자들의 갯수\r\n",
    "re.findall(count(\"[0-9]\"),\"adsgd135hjabcg2kl;ipokjna6543bcb;zfx\")"
   ],
   "outputs": [
    {
     "output_type": "error",
     "ename": "NameError",
     "evalue": "name 'count' is not defined",
     "traceback": [
      "\u001b[1;31m---------------------------------------------------------------------------\u001b[0m",
      "\u001b[1;31mNameError\u001b[0m                                 Traceback (most recent call last)",
      "\u001b[1;32m~\\AppData\\Local\\Temp/ipykernel_27120/3033193857.py\u001b[0m in \u001b[0;36m<module>\u001b[1;34m\u001b[0m\n\u001b[0;32m      1\u001b[0m \u001b[1;31m# 퀴즈 1:\u001b[0m\u001b[1;33m\u001b[0m\u001b[1;33m\u001b[0m\u001b[1;33m\u001b[0m\u001b[0m\n\u001b[1;32m----> 2\u001b[1;33m \u001b[0mre\u001b[0m\u001b[1;33m.\u001b[0m\u001b[0mfindall\u001b[0m\u001b[1;33m(\u001b[0m\u001b[0mcount\u001b[0m\u001b[1;33m(\u001b[0m\u001b[1;34m\"[0-9]\"\u001b[0m\u001b[1;33m)\u001b[0m\u001b[1;33m,\u001b[0m\u001b[1;34m\"adsgd135hjabcg2kl;ipokjna6543bcb;zfx\"\u001b[0m\u001b[1;33m)\u001b[0m\u001b[1;33m\u001b[0m\u001b[1;33m\u001b[0m\u001b[0m\n\u001b[0m",
      "\u001b[1;31mNameError\u001b[0m: name 'count' is not defined"
     ]
    }
   ],
   "metadata": {}
  },
  {
   "cell_type": "code",
   "execution_count": 17,
   "source": [
    "# 답\r\n",
    "len(re.findall('[0-9]',\"adsgd135hjabcg2kl;ipokjna6543bcb;zfx\")), type(re.findall('[0123456789]',\"adsgd135hjabcg2kl;ipokjna6543bcb;zfx\"))"
   ],
   "outputs": [
    {
     "output_type": "execute_result",
     "data": {
      "text/plain": [
       "(8, list)"
      ]
     },
     "metadata": {},
     "execution_count": 17
    }
   ],
   "metadata": {}
  },
  {
   "cell_type": "code",
   "execution_count": null,
   "source": [
    "# 파이썬에서 데이터 구조 3형제\r\n",
    "# () : tuple. 변경이 안됨! pandas, numpy에서 특정한 결과를 줄 때 튜플 형태로 결과를 알려줌\r\n",
    "# {} : dictionary, key-value, JSON 포맷과 형태 비슷. JSON 형태를 웹에서 데이터를 가져오면, decode하면 바로 dictionary\r\n",
    "# [] : list, 모든 것을 다 담을 수 있다. 길이도 가변적. 웬만한 경우 거의 리스트 사용!  메모리 사용이 비효율적"
   ],
   "outputs": [],
   "metadata": {}
  },
  {
   "cell_type": "code",
   "execution_count": 24,
   "source": [
    "# 퀴즈 2 : 숫자가 4개가 이어진 부분을 찾기!\r\n",
    "# 답\r\n",
    "re.findall('[0-9][0-9][0-9][0-9]',\"adsgd135hjabcg2kl;ipokjna6543bcb;zfx\"), len(re.findall('[0-9][0-9][0-9][0-9]',\"adsgd135hjabcg2kl;ipokjna6543bcb;zfx\"))"
   ],
   "outputs": [
    {
     "output_type": "execute_result",
     "data": {
      "text/plain": [
       "(['6543'], 1)"
      ]
     },
     "metadata": {},
     "execution_count": 24
    }
   ],
   "metadata": {}
  },
  {
   "cell_type": "code",
   "execution_count": 23,
   "source": [
    "if len(re.findall('[0-9][0-9][0-9][0-9]',\"adsgd135hjabcg2kl;ipokjna6543bcb;zfx\")) > 0 :\r\n",
    "    print(\"찾았다!\")\r\n",
    "else:\r\n",
    "    print(\"없다\")"
   ],
   "outputs": [
    {
     "output_type": "stream",
     "name": "stdout",
     "text": [
      "찾았다!\n"
     ]
    }
   ],
   "metadata": {}
  },
  {
   "cell_type": "code",
   "execution_count": 32,
   "source": [
    "\r\n",
    "documents = ['asdfghfjhkglu;poiuytrew123456',\r\n",
    "            'zxcvbnjmm;l][poiuytrewq123567/.,mnbv',\r\n",
    "            'sdfghjklopo0-0987654`12zxcvb/.,\\]',\r\n",
    "            '{{{{{{{{{{{[[[[[[<<<<>23456>>>>>>>((@@@##$%^&*))]]]]]]}}}}}}}}}}}',\r\n",
    "            '[adsfghgjhkj]']\r\n",
    "regExp = \"[0-9:'{}()@]\"\r\n",
    "\r\n",
    "for doc in documents:\r\n",
    "    if len(re.findall(regExp, doc)) > 0:\r\n",
    "        print(\"있음\")\r\n",
    "    else:\r\n",
    "        print(doc)"
   ],
   "outputs": [
    {
     "output_type": "stream",
     "name": "stdout",
     "text": [
      "있음\n",
      "있음\n",
      "있음\n",
      "있음\n",
      "[adsfghgjhkj]\n"
     ]
    }
   ],
   "metadata": {}
  },
  {
   "cell_type": "code",
   "execution_count": 41,
   "source": [
    "# ^ : 지정한 클래스에 해당되지 않는 것을 찾아라!\r\n",
    "documents = ['asdfghfjhkglu;poiuytrew123456',\r\n",
    "            'zxcvbnjmm;l][poiuytrewq123567.,mnbv',\r\n",
    "            'sdfghjklopo0-0987654`12zxcvb.,]',\r\n",
    "            '{{{{{{{{{{{23456((@@@##$%^&*))}}}}}}}}}}}',\r\n",
    "            '[adsfghgjhkj]']\r\n",
    "regExp = \"[^0-9:'{}/\\()@]\"\r\n",
    "\r\n",
    "for doc in documents:\r\n",
    "    if len(re.findall(regExp, doc)) < 0:\r\n",
    "        pass\r\n",
    "    else:\r\n",
    "        print(re.findall(regExp, doc))"
   ],
   "outputs": [
    {
     "output_type": "stream",
     "name": "stdout",
     "text": [
      "['a', 's', 'd', 'f', 'g', 'h', 'f', 'j', 'h', 'k', 'g', 'l', 'u', ';', 'p', 'o', 'i', 'u', 'y', 't', 'r', 'e', 'w']\n",
      "['z', 'x', 'c', 'v', 'b', 'n', 'j', 'm', 'm', ';', 'l', ']', '[', 'p', 'o', 'i', 'u', 'y', 't', 'r', 'e', 'w', 'q', '.', ',', 'm', 'n', 'b', 'v']\n",
      "['s', 'd', 'f', 'g', 'h', 'j', 'k', 'l', 'o', 'p', 'o', '-', '`', 'z', 'x', 'c', 'v', 'b', '.', ',', ']']\n",
      "['#', '#', '$', '%', '^', '&', '*']\n",
      "['[', 'a', 'd', 's', 'f', 'g', 'h', 'g', 'j', 'h', 'k', 'j', ']']\n"
     ]
    }
   ],
   "metadata": {}
  },
  {
   "cell_type": "code",
   "execution_count": 46,
   "source": [
    "# \\\r\n",
    "# 퀴즈 3: doc에서 모든 \\를 찾아보세요!\r\n",
    "doc = \"\\n for new [line, ] \\section and \\document and \\\\\\section \\n\"\r\n",
    "re.findall('[^a-z, ]', doc)"
   ],
   "outputs": [
    {
     "output_type": "execute_result",
     "data": {
      "text/plain": [
       "['\\n', '[', ']', '\\\\', '\\\\', '\\\\', '\\\\', '\\n']"
      ]
     },
     "metadata": {},
     "execution_count": 46
    }
   ],
   "metadata": {}
  },
  {
   "cell_type": "code",
   "execution_count": 50,
   "source": [
    "doc = \"\\n for new [line, ] \\section and \\document and \\\\\\section \\n\"\r\n",
    "regExp = \"'\\'\"\r\n",
    "print(len(re.findall(regExp, doc)))"
   ],
   "outputs": [
    {
     "output_type": "stream",
     "name": "stdout",
     "text": [
      "0\n"
     ]
    }
   ],
   "metadata": {}
  },
  {
   "cell_type": "code",
   "execution_count": null,
   "source": [],
   "outputs": [],
   "metadata": {}
  }
 ],
 "metadata": {
  "orig_nbformat": 4,
  "language_info": {
   "name": "python",
   "version": "3.9.6",
   "mimetype": "text/x-python",
   "codemirror_mode": {
    "name": "ipython",
    "version": 3
   },
   "pygments_lexer": "ipython3",
   "nbconvert_exporter": "python",
   "file_extension": ".py"
  },
  "kernelspec": {
   "name": "python3",
   "display_name": "Python 3.9.6 64-bit"
  },
  "interpreter": {
   "hash": "b8680ab9aff5b5ebb791a0859d9dfeff764b5a08a025fe8afcc9bee5e95b76b2"
  }
 },
 "nbformat": 4,
 "nbformat_minor": 2
}