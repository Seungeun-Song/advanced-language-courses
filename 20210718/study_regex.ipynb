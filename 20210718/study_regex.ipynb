{
 "cells": [
  {
   "cell_type": "markdown",
   "source": [
    "## study_regex.ipynb - regex = 정규식(regular expression)\r\n",
    "\r\n",
    "1, PDF에서 내용을 추출 -> 추출한 내용에서 특정 부분을 추출할 떄 </br>\r\n",
    "2, 주민등록번호, 이메일 주소, 핸드폰 번호 등의 특정 패턴을 찾고자 할 때\r\n",
    "\r\n",
    "ex, regexr.com"
   ],
   "metadata": {}
  },
  {
   "cell_type": "code",
   "execution_count": 1,
   "source": [
    "import re"
   ],
   "outputs": [],
   "metadata": {}
  },
  {
   "cell_type": "code",
   "execution_count": 3,
   "source": [
    "re.findall(\"abc\",\"sdyfabcgdhjkjhfsadfabchgjhkgjgfs\")"
   ],
   "outputs": [
    {
     "output_type": "execute_result",
     "data": {
      "text/plain": [
       "['abc', 'abc']"
      ]
     },
     "metadata": {},
     "execution_count": 3
    }
   ],
   "metadata": {}
  },
  {
   "cell_type": "code",
   "execution_count": 4,
   "source": [
    "# finditer()\t정규식과 매치되는 모든 문자열(substring)을 반복 가능한 객체로 돌려준다.\r\n",
    "iterator = re.finditer(\"abc\",\"sdyfabcgdhjkjhfsadfabchgjhkgjgfs\")"
   ],
   "outputs": [],
   "metadata": {}
  },
  {
   "cell_type": "code",
   "execution_count": 8,
   "source": [
    "print(iterator)\r\n",
    "print(type(iterator))"
   ],
   "outputs": [
    {
     "output_type": "stream",
     "name": "stdout",
     "text": [
      "<callable_iterator object at 0x000001B534E2B3A0>\n",
      "<class 'callable_iterator'>\n"
     ]
    }
   ],
   "metadata": {}
  },
  {
   "cell_type": "code",
   "execution_count": 5,
   "source": [
    "for match in iterator:\r\n",
    "    print(match.group())"
   ],
   "outputs": [
    {
     "output_type": "stream",
     "name": "stdout",
     "text": [
      "abc\n",
      "abc\n"
     ]
    }
   ],
   "metadata": {}
  },
  {
   "cell_type": "code",
   "execution_count": 6,
   "source": [
    "for match in re.findall(\"abc\",\"sdyfabcgdhjkjhfsadfabchgjhkgjgfs\"):\r\n",
    "    print(match)"
   ],
   "outputs": [
    {
     "output_type": "stream",
     "name": "stdout",
     "text": [
      "abc\n",
      "abc\n"
     ]
    }
   ],
   "metadata": {}
  },
  {
   "cell_type": "code",
   "execution_count": null,
   "source": [],
   "outputs": [],
   "metadata": {}
  }
 ],
 "metadata": {
  "orig_nbformat": 4,
  "language_info": {
   "name": "python",
   "version": "3.9.6",
   "mimetype": "text/x-python",
   "codemirror_mode": {
    "name": "ipython",
    "version": 3
   },
   "pygments_lexer": "ipython3",
   "nbconvert_exporter": "python",
   "file_extension": ".py"
  },
  "kernelspec": {
   "name": "python3",
   "display_name": "Python 3.9.6 64-bit"
  },
  "interpreter": {
   "hash": "b8680ab9aff5b5ebb791a0859d9dfeff764b5a08a025fe8afcc9bee5e95b76b2"
  }
 },
 "nbformat": 4,
 "nbformat_minor": 2
}