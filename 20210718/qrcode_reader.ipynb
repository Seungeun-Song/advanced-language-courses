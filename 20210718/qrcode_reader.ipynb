{
 "cells": [
  {
   "cell_type": "code",
   "execution_count": 2,
   "source": [
    "from pyzbar.pyzbar import decode\r\n",
    "from PIL import Image"
   ],
   "outputs": [],
   "metadata": {}
  },
  {
   "cell_type": "code",
   "execution_count": 3,
   "source": [
    "print(\"QR 코드 리더기\")\r\n",
    "qrcode_image = Image.open(\"my_qrcode_scale=5.png\")\r\n",
    "decoded_qrcode = decode(qrcode_image)"
   ],
   "outputs": [
    {
     "output_type": "stream",
     "name": "stdout",
     "text": [
      "QR 코드 리더기\n"
     ]
    }
   ],
   "metadata": {}
  },
  {
   "cell_type": "code",
   "execution_count": 4,
   "source": [
    "print(decoded_qrcode)"
   ],
   "outputs": [
    {
     "output_type": "stream",
     "name": "stdout",
     "text": [
      "[Decoded(data=b'hello', type='QRCODE', rect=Rect(left=20, top=20, width=105, height=105), polygon=[Point(x=20, y=20), Point(x=20, y=125), Point(x=125, y=125), Point(x=125, y=20)])]\n"
     ]
    }
   ],
   "metadata": {}
  },
  {
   "cell_type": "code",
   "execution_count": 5,
   "source": [
    "print(\"QR 코드에 담긴 내용 : \", decoded_qrcode[0].data.decode())"
   ],
   "outputs": [
    {
     "output_type": "stream",
     "name": "stdout",
     "text": [
      "QR 코드에 담긴 내용 :  hello\n"
     ]
    }
   ],
   "metadata": {}
  },
  {
   "cell_type": "code",
   "execution_count": 6,
   "source": [
    "type(decoded_qrcode)"
   ],
   "outputs": [
    {
     "output_type": "execute_result",
     "data": {
      "text/plain": [
       "list"
      ]
     },
     "metadata": {},
     "execution_count": 6
    }
   ],
   "metadata": {}
  },
  {
   "cell_type": "code",
   "execution_count": 8,
   "source": [
    "print(\"QR 코드 리더기\")\r\n",
    "qrcode_image = Image.open(\"my_qrcode1.png\")\r\n",
    "decoded_qrcode = decode(qrcode_image)\r\n",
    "print(\"QR 코드에 담긴 내용 : \", decoded_qrcode[0].data.decode())"
   ],
   "outputs": [
    {
     "output_type": "stream",
     "name": "stdout",
     "text": [
      "QR 코드 리더기\n",
      "QR 코드에 담긴 내용 :  hello, there. good morning\n"
     ]
    }
   ],
   "metadata": {}
  },
  {
   "cell_type": "code",
   "execution_count": null,
   "source": [],
   "outputs": [],
   "metadata": {}
  }
 ],
 "metadata": {
  "orig_nbformat": 4,
  "language_info": {
   "name": "python",
   "version": "3.9.6",
   "mimetype": "text/x-python",
   "codemirror_mode": {
    "name": "ipython",
    "version": 3
   },
   "pygments_lexer": "ipython3",
   "nbconvert_exporter": "python",
   "file_extension": ".py"
  },
  "kernelspec": {
   "name": "python3",
   "display_name": "Python 3.9.6 64-bit ('venv_20210718': venv)"
  },
  "interpreter": {
   "hash": "59063529186e2e09efda0ba598dbdac8025ef2df2cb2a16a6067bb3cefbb579d"
  }
 },
 "nbformat": 4,
 "nbformat_minor": 2
}