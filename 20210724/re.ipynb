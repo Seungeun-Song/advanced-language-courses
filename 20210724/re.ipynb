{
 "cells": [
  {
   "cell_type": "code",
   "execution_count": 3,
   "source": [
    "import re"
   ],
   "outputs": [],
   "metadata": {}
  },
  {
   "cell_type": "code",
   "execution_count": 11,
   "source": [
    "doc = \"\\n for new [line, ] \\section and \\document and \\\\\\section \\n\"\r\n",
    "regExp = \"[\\\\\\]\"\r\n",
    "print(list(re.findall(regExp, doc)))"
   ],
   "outputs": [
    {
     "output_type": "stream",
     "name": "stdout",
     "text": [
      "['\\\\', '\\\\', '\\\\', '\\\\']\n"
     ]
    }
   ],
   "metadata": {}
  },
  {
   "cell_type": "code",
   "execution_count": 6,
   "source": [
    "print(\"\\\\\\section\")"
   ],
   "outputs": [
    {
     "output_type": "stream",
     "name": "stdout",
     "text": [
      "\\\\section\n"
     ]
    }
   ],
   "metadata": {}
  },
  {
   "cell_type": "code",
   "execution_count": 12,
   "source": [
    "regExp = \"'[\\\\\\]'\"\r\n",
    "print(len(re.findall(regExp, doc)))"
   ],
   "outputs": [
    {
     "output_type": "stream",
     "name": "stdout",
     "text": [
      "0\n"
     ]
    }
   ],
   "metadata": {}
  },
  {
   "cell_type": "code",
   "execution_count": 13,
   "source": [
    "print(doc)"
   ],
   "outputs": [
    {
     "output_type": "stream",
     "name": "stdout",
     "text": [
      "\n",
      " for new [line, ] \\section and \\document and \\\\section \n",
      "\n"
     ]
    }
   ],
   "metadata": {}
  },
  {
   "cell_type": "code",
   "execution_count": 15,
   "source": [
    "doc = r\"\\n for new [line, ] \\section and \\document and \\\\\\section \\n\"\r\n",
    "regExp = \"[\\\\\\]\"\r\n",
    "print(len(re.findall(regExp, doc)))"
   ],
   "outputs": [
    {
     "output_type": "stream",
     "name": "stdout",
     "text": [
      "7\n"
     ]
    }
   ],
   "metadata": {}
  },
  {
   "cell_type": "code",
   "execution_count": 16,
   "source": [
    "print(doc)"
   ],
   "outputs": [
    {
     "output_type": "stream",
     "name": "stdout",
     "text": [
      "\\n for new [line, ] \\section and \\document and \\\\\\section \\n\n"
     ]
    }
   ],
   "metadata": {}
  },
  {
   "cell_type": "code",
   "execution_count": 18,
   "source": [
    "# 퀴즈 : \\, [, ] 를 가진 부분을 찾아주세요 \r\n",
    "regExp = '[\"[\\\\]\",\"[\",\"]\"]'\r\n",
    "print(len(re.findall(regExp, doc)))"
   ],
   "outputs": [
    {
     "output_type": "stream",
     "name": "stdout",
     "text": [
      "0\n"
     ]
    }
   ],
   "metadata": {}
  },
  {
   "cell_type": "code",
   "execution_count": 21,
   "source": [
    "regExp = \"[\\[\\]\\\\\\]\"\r\n",
    "print(len(re.findall(regExp, doc)))"
   ],
   "outputs": [
    {
     "output_type": "stream",
     "name": "stdout",
     "text": [
      "9\n"
     ]
    }
   ],
   "metadata": {}
  },
  {
   "cell_type": "code",
   "execution_count": 22,
   "source": [
    "regExt_brackets =\"[\\[\\]]\"\r\n",
    "brackets_counts = len(re.findall(regExt_brackets, doc))\r\n",
    "\r\n",
    "regExp_slash =\"[\\\\\\]\"\r\n",
    "slash_counts= len(re.findall(regExp_slash, doc))\r\n",
    "\r\n",
    "print(brackets_counts + slash_counts)"
   ],
   "outputs": [
    {
     "output_type": "stream",
     "name": "stdout",
     "text": [
      "9\n"
     ]
    }
   ],
   "metadata": {}
  },
  {
   "cell_type": "code",
   "execution_count": 26,
   "source": [
    "# 퀴즈 : \\section 부분을 찾아주세요!\r\n",
    "\r\n",
    "regExp = \"[\\\\\\]section\"\r\n",
    "\r\n",
    "print(re.findall(regExp, doc))\r\n"
   ],
   "outputs": [
    {
     "output_type": "stream",
     "name": "stdout",
     "text": [
      "['\\\\section', '\\\\section']\n"
     ]
    }
   ],
   "metadata": {}
  },
  {
   "cell_type": "code",
   "execution_count": 31,
   "source": [
    "documents = ['asdfj;laieorkdjf;aliejr;akjdf23k4j;lajds;l',\r\n",
    "            'asdfjoqweitulad;ai@weutadg;lajoetiuaodkgjier',\r\n",
    "            'asdkfjqoitlskdnfoqwiekhas;ioew=adgoie',\r\n",
    "            'askdfl_asdkfei_asdjkfla****askeasfff',\r\n",
    "            '{{{{{asdfjowei@@##askdfoie}}}}}']\r\n",
    "regExp = '[\\W]'\r\n",
    "for line in documents:\r\n",
    "    rs = re.findall(regExp, line)\r\n",
    "    print(rs)\r\n"
   ],
   "outputs": [
    {
     "output_type": "stream",
     "name": "stdout",
     "text": [
      "[';', ';', ';', ';', ';']\n",
      "[';', '@', ';']\n",
      "[';', '=']\n",
      "['*', '*', '*', '*']\n",
      "['{', '{', '{', '{', '{', '@', '@', '#', '#', '}', '}', '}', '}', '}']\n"
     ]
    }
   ],
   "metadata": {}
  },
  {
   "cell_type": "code",
   "execution_count": 33,
   "source": [
    "doc =\"YahooYahoooYahooooYahoooooYaho\"\r\n",
    "regExp = \"Yahoo*\"\r\n",
    "rs = re.findall(regExp, doc)\r\n",
    "print(rs)"
   ],
   "outputs": [
    {
     "output_type": "stream",
     "name": "stdout",
     "text": [
      "['Yahoo', 'Yahooo', 'Yahoooo', 'Yahooooo', 'Yaho']\n"
     ]
    }
   ],
   "metadata": {}
  },
  {
   "cell_type": "code",
   "execution_count": 34,
   "source": [
    "regExp = \"Yahoo+\"\r\n",
    "print(re.findall(regExp, doc))"
   ],
   "outputs": [
    {
     "output_type": "stream",
     "name": "stdout",
     "text": [
      "['Yahoo', 'Yahooo', 'Yahoooo', 'Yahooooo']\n"
     ]
    }
   ],
   "metadata": {}
  },
  {
   "cell_type": "code",
   "execution_count": 40,
   "source": [
    "regExp = \"Yah?ooo\"\r\n",
    "print(re.findall(regExp, doc))"
   ],
   "outputs": [
    {
     "output_type": "stream",
     "name": "stdout",
     "text": [
      "['Yahooo', 'Yahooo', 'Yahooo']\n"
     ]
    }
   ],
   "metadata": {}
  },
  {
   "cell_type": "code",
   "execution_count": 55,
   "source": [
    "documents = ['asdfj;laieorkdjf;aliejr;akjdf23k4j;lajds;l',\r\n",
    "            'asdfjoqweit12345678ulad;ai@weutadg;lajoetiuaodkgjier',\r\n",
    "            'asdkfjqoitlskdnfoqwiekhas;ioew=adgoie',\r\n",
    "            'askdf1l_asd3538724kfei_as2djkfla****aske3asfff',\r\n",
    "            '{{{{{asdfjowei@@##askdfoie}}}}}']\r\n",
    "regExp='\\d?'\r\n",
    "\r\n",
    "for line in documents:\r\n",
    "    print(re.findall(regExp, line))"
   ],
   "outputs": [
    {
     "output_type": "stream",
     "name": "stdout",
     "text": [
      "['', '', '', '', '', '', '', '', '', '', '', '', '', '', '', '', '', '', '', '', '', '', '', '', '', '', '', '', '', '2', '3', '', '4', '', '', '', '', '', '', '', '', '', '']\n",
      "['', '', '', '', '', '', '', '', '', '', '', '1', '2', '3', '4', '5', '6', '7', '8', '', '', '', '', '', '', '', '', '', '', '', '', '', '', '', '', '', '', '', '', '', '', '', '', '', '', '', '', '', '', '', '', '', '']\n",
      "['', '', '', '', '', '', '', '', '', '', '', '', '', '', '', '', '', '', '', '', '', '', '', '', '', '', '', '', '', '', '', '', '', '', '', '', '', '']\n",
      "['', '', '', '', '', '1', '', '', '', '', '', '3', '5', '3', '8', '7', '2', '4', '', '', '', '', '', '', '', '2', '', '', '', '', '', '', '', '', '', '', '', '', '', '', '3', '', '', '', '', '', '']\n",
      "['', '', '', '', '', '', '', '', '', '', '', '', '', '', '', '', '', '', '', '', '', '', '', '', '', '', '', '', '', '', '', '']\n"
     ]
    }
   ],
   "metadata": {}
  },
  {
   "cell_type": "code",
   "execution_count": null,
   "source": [],
   "outputs": [],
   "metadata": {}
  }
 ],
 "metadata": {
  "orig_nbformat": 4,
  "language_info": {
   "name": "python",
   "version": "3.9.6",
   "mimetype": "text/x-python",
   "codemirror_mode": {
    "name": "ipython",
    "version": 3
   },
   "pygments_lexer": "ipython3",
   "nbconvert_exporter": "python",
   "file_extension": ".py"
  },
  "kernelspec": {
   "name": "python3",
   "display_name": "Python 3.9.6 64-bit ('venv_20210724': venv)"
  },
  "interpreter": {
   "hash": "efcfa77c20aacaac161e1afeaed27c932a71ab1e50f6e93db74e37496df02c44"
  }
 },
 "nbformat": 4,
 "nbformat_minor": 2
}