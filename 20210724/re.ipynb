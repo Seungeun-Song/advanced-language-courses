{
 "cells": [
  {
   "cell_type": "code",
   "execution_count": 1,
   "source": [
    "import re"
   ],
   "outputs": [],
   "metadata": {}
  },
  {
   "cell_type": "code",
   "execution_count": 6,
   "source": [
    "p = re.compile(\"a\\d*b\", re.IGNORECASE)\r\n",
    "p.findall(\"a234122B2352Ab\")"
   ],
   "outputs": [
    {
     "output_type": "execute_result",
     "data": {
      "text/plain": [
       "['a234122B', 'Ab']"
      ]
     },
     "metadata": {},
     "execution_count": 6
    }
   ],
   "metadata": {}
  },
  {
   "cell_type": "code",
   "execution_count": 7,
   "source": [
    "p = re.compile(\"a\\d+b\", re.IGNORECASE)\r\n",
    "p.findall(\"a234122B2352Ab\")"
   ],
   "outputs": [
    {
     "output_type": "execute_result",
     "data": {
      "text/plain": [
       "['a234122B']"
      ]
     },
     "metadata": {},
     "execution_count": 7
    }
   ],
   "metadata": {}
  },
  {
   "cell_type": "code",
   "execution_count": 8,
   "source": [
    "p = re.compile(\"a\\d?b\", re.IGNORECASE)\r\n",
    "p.findall(\"a234122B2352Ab\")"
   ],
   "outputs": [
    {
     "output_type": "execute_result",
     "data": {
      "text/plain": [
       "['Ab']"
      ]
     },
     "metadata": {},
     "execution_count": 8
    }
   ],
   "metadata": {}
  },
  {
   "cell_type": "code",
   "execution_count": 9,
   "source": [
    "p = re.compile(\"a\\db\", re.IGNORECASE)\r\n",
    "p.findall(\"a234122B2352Ab\")"
   ],
   "outputs": [
    {
     "output_type": "execute_result",
     "data": {
      "text/plain": [
       "[]"
      ]
     },
     "metadata": {},
     "execution_count": 9
    }
   ],
   "metadata": {}
  },
  {
   "cell_type": "code",
   "execution_count": 10,
   "source": [
    "p = re.compile(\"a\\d*b\")\r\n",
    "p.findall(\"a234122B2352Ab\")"
   ],
   "outputs": [
    {
     "output_type": "execute_result",
     "data": {
      "text/plain": [
       "[]"
      ]
     },
     "metadata": {},
     "execution_count": 10
    }
   ],
   "metadata": {}
  },
  {
   "cell_type": "code",
   "execution_count": 12,
   "source": [
    "doc = '      \\t    \\t   \\t how are   \\t  you today ... asdfjla;joeito;angl;a4o3'\r\n",
    "\r\n",
    "print(re.findall(\"\\s\", doc), \"\\n\", len(re.findall(\"\\s\", doc)))"
   ],
   "outputs": [
    {
     "output_type": "stream",
     "name": "stdout",
     "text": [
      "[' ', ' ', ' ', ' ', ' ', ' ', '\\t', ' ', ' ', ' ', ' ', '\\t', ' ', ' ', ' ', '\\t', ' ', ' ', ' ', ' ', ' ', '\\t', ' ', ' ', ' ', ' ', ' '] \n",
      " 27\n"
     ]
    }
   ],
   "metadata": {}
  },
  {
   "cell_type": "code",
   "execution_count": 23,
   "source": [
    "# 공백이 없는 애들까지. 0~\r\n",
    "len(re.findall(\"\\s*\", doc))"
   ],
   "outputs": [
    {
     "output_type": "execute_result",
     "data": {
      "text/plain": [
       "50"
      ]
     },
     "metadata": {},
     "execution_count": 23
    }
   ],
   "metadata": {}
  },
  {
   "cell_type": "code",
   "execution_count": 7,
   "source": [
    "p = re.compile(\"\\s*\")\r\n",
    "m = p.findall(doc)\r\n",
    "print(len(m))\r\n",
    "m = p.match(doc)\r\n",
    "print(m)"
   ],
   "outputs": [
    {
     "output_type": "stream",
     "name": "stdout",
     "text": [
      "50\n",
      "<re.Match object; span=(0, 0), match=''>\n"
     ]
    }
   ],
   "metadata": {}
  },
  {
   "cell_type": "code",
   "execution_count": 15,
   "source": [
    "doc = '      \\t    \\t   \\t how are   \\t  you today ... asdfjla;joeito;angl;a4o3'\r\n",
    "m = p.match(doc)\r\n",
    "print(m.span(), m.start(), m.end(), len(m.group()))\r\n",
    "print(doc[m.end():])"
   ],
   "outputs": [
    {
     "output_type": "stream",
     "name": "stdout",
     "text": [
      "(0, 17) 0 17 17\n",
      "how are   \t  you today ... asdfjla;joeito;angl;a4o3\n"
     ]
    }
   ],
   "metadata": {}
  },
  {
   "cell_type": "code",
   "execution_count": 19,
   "source": [
    "doc = '      \\t    \\t   \\t how are   \\t  you today ... asdfjla;joeito;angl;a4o3'\r\n",
    "m = re.findall(\"\\s*\", doc)\r\n",
    "#print(m.span(), m.start(), m.end(), len(m.group()))\r\n",
    "#print(doc[m.end():])\r\n",
    "print(m)"
   ],
   "outputs": [
    {
     "output_type": "stream",
     "name": "stdout",
     "text": [
      "['      \\t    \\t   \\t ', '', '', '', ' ', '', '', '', '   \\t  ', '', '', '', ' ', '', '', '', '', '', ' ', '', '', '', ' ', '', '', '', '', '', '', '', '', '', '', '', '', '', '', '', '', '', '', '', '', '', '', '', '', '']\n"
     ]
    }
   ],
   "metadata": {}
  },
  {
   "cell_type": "code",
   "execution_count": 14,
   "source": [
    "doc = '      \\t    \\t   \\t how are   \\t  you today ... asdfjla;joeito;angl;a4o3'\r\n",
    "m = p.search(doc)\r\n",
    "print(m.span(), m.start(), m.end(), len(m.group()))"
   ],
   "outputs": [
    {
     "output_type": "stream",
     "name": "stdout",
     "text": [
      "(0, 17) 0 17 17\n"
     ]
    }
   ],
   "metadata": {}
  },
  {
   "cell_type": "code",
   "execution_count": 26,
   "source": [
    "doc = \"ololololo\"\r\n",
    "p = re.compile(\"olo\")\r\n",
    "m = p.match(doc)\r\n",
    "print(m.span())\r\n"
   ],
   "outputs": [
    {
     "output_type": "stream",
     "name": "stdout",
     "text": [
      "(0, 3)\n"
     ]
    }
   ],
   "metadata": {}
  },
  {
   "cell_type": "code",
   "execution_count": 27,
   "source": [
    "documents = \"asdfj;laieorkdjf;aliejr;akjdf23k4j;lajds;lasdf33joqweitulad;ai@weutadg;lajoeti53uaodkgjierasdkfjqoitf3f3lskdnfoqwi23423523ekhas;ioew=adgoiea3343skdfl_asdkfei_asdjkfla****askeasfff{{{{{asdfjowei@@##askdfoie}}}}}\"\r\n",
    "p = re.compile(\"[a-zA-Z_]\\w*\")\r\n",
    "iterator = p.finditer(documents)\r\n",
    "for match in iterator:\r\n",
    "    print(match.span(), match.group())"
   ],
   "outputs": [
    {
     "output_type": "stream",
     "name": "stdout",
     "text": [
      "(0, 5) asdfj\n",
      "(6, 16) laieorkdjf\n",
      "(17, 23) aliejr\n",
      "(24, 34) akjdf23k4j\n",
      "(35, 40) lajds\n",
      "(41, 59) lasdf33joqweitulad\n",
      "(60, 62) ai\n",
      "(63, 70) weutadg\n",
      "(71, 127) lajoeti53uaodkgjierasdkfjqoitf3f3lskdnfoqwi23423523ekhas\n",
      "(128, 132) ioew\n",
      "(133, 166) adgoiea3343skdfl_asdkfei_asdjkfla\n",
      "(170, 179) askeasfff\n",
      "(184, 193) asdfjowei\n",
      "(197, 205) askdfoie\n"
     ]
    }
   ],
   "metadata": {}
  },
  {
   "cell_type": "code",
   "execution_count": 28,
   "source": [
    "documents = ['asdfj;laieorkdjf;aliejr;akjdf23k4j;lajds;l',\r\n",
    "            'asdf33joqweitulad;ai@weutadg;lajoeti53uaodkgjier',\r\n",
    "            'asdkfjqoitf3f3lskdnfoqwi23423523ekhas;ioew=adgoie',\r\n",
    "            'a3343skdfl_asdkfei_asdjkfla****askeasfff',\r\n",
    "            '{{{{{asdfjowei@@##askdfoie}}}}}']\r\n",
    "\r\n",
    "regExp = \"[a-zA-Z_]\\w*\"\r\n",
    "\r\n",
    "for doc in documents:\r\n",
    "    print(re.findall(regExp, doc))"
   ],
   "outputs": [
    {
     "output_type": "stream",
     "name": "stdout",
     "text": [
      "['asdfj', 'laieorkdjf', 'aliejr', 'akjdf23k4j', 'lajds', 'l']\n",
      "['asdf33joqweitulad', 'ai', 'weutadg', 'lajoeti53uaodkgjier']\n",
      "['asdkfjqoitf3f3lskdnfoqwi23423523ekhas', 'ioew', 'adgoie']\n",
      "['a3343skdfl_asdkfei_asdjkfla', 'askeasfff']\n",
      "['asdfjowei', 'askdfoie']\n"
     ]
    }
   ],
   "metadata": {}
  },
  {
   "cell_type": "code",
   "execution_count": 29,
   "source": [
    "documents = \"asdfj;laieorkdjf;aliejr;akjdf23k4j;lajds;lasdf33joqweitulad;ai@weutadg;lajoeti53uaodkgjierasdkfjqoitf3f3lskdnfoqwi23423523ekhas;ioew=adgoiea3343skdfl_asdkfei_asdjkfla****askeasfff{{{{{asdfjowei@@##askdfoie}}}}}\"\r\n",
    "regExp = \"[a-zA-Z_]\\w*\"\r\n",
    "\r\n",
    "for doc in documents:\r\n",
    "    print(re.findall(regExp, doc))"
   ],
   "outputs": [
    {
     "output_type": "stream",
     "name": "stdout",
     "text": [
      "['a']\n",
      "['s']\n",
      "['d']\n",
      "['f']\n",
      "['j']\n",
      "[]\n",
      "['l']\n",
      "['a']\n",
      "['i']\n",
      "['e']\n",
      "['o']\n",
      "['r']\n",
      "['k']\n",
      "['d']\n",
      "['j']\n",
      "['f']\n",
      "[]\n",
      "['a']\n",
      "['l']\n",
      "['i']\n",
      "['e']\n",
      "['j']\n",
      "['r']\n",
      "[]\n",
      "['a']\n",
      "['k']\n",
      "['j']\n",
      "['d']\n",
      "['f']\n",
      "[]\n",
      "[]\n",
      "['k']\n",
      "[]\n",
      "['j']\n",
      "[]\n",
      "['l']\n",
      "['a']\n",
      "['j']\n",
      "['d']\n",
      "['s']\n",
      "[]\n",
      "['l']\n",
      "['a']\n",
      "['s']\n",
      "['d']\n",
      "['f']\n",
      "[]\n",
      "[]\n",
      "['j']\n",
      "['o']\n",
      "['q']\n",
      "['w']\n",
      "['e']\n",
      "['i']\n",
      "['t']\n",
      "['u']\n",
      "['l']\n",
      "['a']\n",
      "['d']\n",
      "[]\n",
      "['a']\n",
      "['i']\n",
      "[]\n",
      "['w']\n",
      "['e']\n",
      "['u']\n",
      "['t']\n",
      "['a']\n",
      "['d']\n",
      "['g']\n",
      "[]\n",
      "['l']\n",
      "['a']\n",
      "['j']\n",
      "['o']\n",
      "['e']\n",
      "['t']\n",
      "['i']\n",
      "[]\n",
      "[]\n",
      "['u']\n",
      "['a']\n",
      "['o']\n",
      "['d']\n",
      "['k']\n",
      "['g']\n",
      "['j']\n",
      "['i']\n",
      "['e']\n",
      "['r']\n",
      "['a']\n",
      "['s']\n",
      "['d']\n",
      "['k']\n",
      "['f']\n",
      "['j']\n",
      "['q']\n",
      "['o']\n",
      "['i']\n",
      "['t']\n",
      "['f']\n",
      "[]\n",
      "['f']\n",
      "[]\n",
      "['l']\n",
      "['s']\n",
      "['k']\n",
      "['d']\n",
      "['n']\n",
      "['f']\n",
      "['o']\n",
      "['q']\n",
      "['w']\n",
      "['i']\n",
      "[]\n",
      "[]\n",
      "[]\n",
      "[]\n",
      "[]\n",
      "[]\n",
      "[]\n",
      "[]\n",
      "['e']\n",
      "['k']\n",
      "['h']\n",
      "['a']\n",
      "['s']\n",
      "[]\n",
      "['i']\n",
      "['o']\n",
      "['e']\n",
      "['w']\n",
      "[]\n",
      "['a']\n",
      "['d']\n",
      "['g']\n",
      "['o']\n",
      "['i']\n",
      "['e']\n",
      "['a']\n",
      "[]\n",
      "[]\n",
      "[]\n",
      "[]\n",
      "['s']\n",
      "['k']\n",
      "['d']\n",
      "['f']\n",
      "['l']\n",
      "['_']\n",
      "['a']\n",
      "['s']\n",
      "['d']\n",
      "['k']\n",
      "['f']\n",
      "['e']\n",
      "['i']\n",
      "['_']\n",
      "['a']\n",
      "['s']\n",
      "['d']\n",
      "['j']\n",
      "['k']\n",
      "['f']\n",
      "['l']\n",
      "['a']\n",
      "[]\n",
      "[]\n",
      "[]\n",
      "[]\n",
      "['a']\n",
      "['s']\n",
      "['k']\n",
      "['e']\n",
      "['a']\n",
      "['s']\n",
      "['f']\n",
      "['f']\n",
      "['f']\n",
      "[]\n",
      "[]\n",
      "[]\n",
      "[]\n",
      "[]\n",
      "['a']\n",
      "['s']\n",
      "['d']\n",
      "['f']\n",
      "['j']\n",
      "['o']\n",
      "['w']\n",
      "['e']\n",
      "['i']\n",
      "[]\n",
      "[]\n",
      "[]\n",
      "[]\n",
      "['a']\n",
      "['s']\n",
      "['k']\n",
      "['d']\n",
      "['f']\n",
      "['o']\n",
      "['i']\n",
      "['e']\n",
      "[]\n",
      "[]\n",
      "[]\n",
      "[]\n",
      "[]\n"
     ]
    }
   ],
   "metadata": {}
  },
  {
   "cell_type": "code",
   "execution_count": 31,
   "source": [
    "doc = r\"\\n for new [line, ] \\section and \\document and \\\\\\section \\n\"\r\n",
    "regExp_brackets = \"[\\[\\]]\"\r\n",
    "regExp_slashes = \"[\\\\\\]\"\r\n",
    "p = re.compile(regExp_brackets + \"|\" + regExp_slashes)\r\n",
    "print(p.findall(doc))\r\n",
    "print(len(p.findall(doc)))"
   ],
   "outputs": [
    {
     "output_type": "stream",
     "name": "stdout",
     "text": [
      "['\\\\', '[', ']', '\\\\', '\\\\', '\\\\', '\\\\', '\\\\', '\\\\']\n",
      "9\n"
     ]
    }
   ],
   "metadata": {}
  },
  {
   "cell_type": "code",
   "execution_count": 41,
   "source": [
    "m = re.search(\"^From\", \" From here to Eternity\")\r\n",
    "m.span(), m.group()"
   ],
   "outputs": [
    {
     "output_type": "error",
     "ename": "AttributeError",
     "evalue": "'NoneType' object has no attribute 'span'",
     "traceback": [
      "\u001b[1;31m---------------------------------------------------------------------------\u001b[0m",
      "\u001b[1;31mAttributeError\u001b[0m                            Traceback (most recent call last)",
      "\u001b[1;32m~\\AppData\\Local\\Temp/ipykernel_30092/563640833.py\u001b[0m in \u001b[0;36m<module>\u001b[1;34m\u001b[0m\n\u001b[0;32m      1\u001b[0m \u001b[0mm\u001b[0m \u001b[1;33m=\u001b[0m \u001b[0mre\u001b[0m\u001b[1;33m.\u001b[0m\u001b[0msearch\u001b[0m\u001b[1;33m(\u001b[0m\u001b[1;34m\"^From\"\u001b[0m\u001b[1;33m,\u001b[0m \u001b[1;34m\" From here to Eternity\"\u001b[0m\u001b[1;33m)\u001b[0m\u001b[1;33m\u001b[0m\u001b[1;33m\u001b[0m\u001b[0m\n\u001b[1;32m----> 2\u001b[1;33m \u001b[0mm\u001b[0m\u001b[1;33m.\u001b[0m\u001b[0mspan\u001b[0m\u001b[1;33m(\u001b[0m\u001b[1;33m)\u001b[0m\u001b[1;33m,\u001b[0m \u001b[0mm\u001b[0m\u001b[1;33m.\u001b[0m\u001b[0mgroup\u001b[0m\u001b[1;33m(\u001b[0m\u001b[1;33m)\u001b[0m\u001b[1;33m\u001b[0m\u001b[1;33m\u001b[0m\u001b[0m\n\u001b[0m",
      "\u001b[1;31mAttributeError\u001b[0m: 'NoneType' object has no attribute 'span'"
     ]
    }
   ],
   "metadata": {}
  },
  {
   "cell_type": "code",
   "execution_count": 42,
   "source": [
    "m = re.search(\"From\", \" From here to Eternity\")\r\n",
    "m.span(), m.group()"
   ],
   "outputs": [
    {
     "output_type": "execute_result",
     "data": {
      "text/plain": [
       "((1, 5), 'From')"
      ]
     },
     "metadata": {},
     "execution_count": 42
    }
   ],
   "metadata": {}
  },
  {
   "cell_type": "code",
   "execution_count": 43,
   "source": [
    "m = re.search(\"From\", \"Reciting From Memory From Me\")\r\n",
    "m.span(), m.group()"
   ],
   "outputs": [
    {
     "output_type": "execute_result",
     "data": {
      "text/plain": [
       "((9, 13), 'From')"
      ]
     },
     "metadata": {},
     "execution_count": 43
    }
   ],
   "metadata": {}
  },
  {
   "cell_type": "code",
   "execution_count": 44,
   "source": [
    "m = re.search(\"^From\", \"Reciting From Memory From Me\")\r\n",
    "m.span(), m.group()"
   ],
   "outputs": [
    {
     "output_type": "error",
     "ename": "AttributeError",
     "evalue": "'NoneType' object has no attribute 'span'",
     "traceback": [
      "\u001b[1;31m---------------------------------------------------------------------------\u001b[0m",
      "\u001b[1;31mAttributeError\u001b[0m                            Traceback (most recent call last)",
      "\u001b[1;32m~\\AppData\\Local\\Temp/ipykernel_30092/342322192.py\u001b[0m in \u001b[0;36m<module>\u001b[1;34m\u001b[0m\n\u001b[0;32m      1\u001b[0m \u001b[0mm\u001b[0m \u001b[1;33m=\u001b[0m \u001b[0mre\u001b[0m\u001b[1;33m.\u001b[0m\u001b[0msearch\u001b[0m\u001b[1;33m(\u001b[0m\u001b[1;34m\"^From\"\u001b[0m\u001b[1;33m,\u001b[0m \u001b[1;34m\"Reciting From Memory From Me\"\u001b[0m\u001b[1;33m)\u001b[0m\u001b[1;33m\u001b[0m\u001b[1;33m\u001b[0m\u001b[0m\n\u001b[1;32m----> 2\u001b[1;33m \u001b[0mm\u001b[0m\u001b[1;33m.\u001b[0m\u001b[0mspan\u001b[0m\u001b[1;33m(\u001b[0m\u001b[1;33m)\u001b[0m\u001b[1;33m,\u001b[0m \u001b[0mm\u001b[0m\u001b[1;33m.\u001b[0m\u001b[0mgroup\u001b[0m\u001b[1;33m(\u001b[0m\u001b[1;33m)\u001b[0m\u001b[1;33m\u001b[0m\u001b[1;33m\u001b[0m\u001b[0m\n\u001b[0m",
      "\u001b[1;31mAttributeError\u001b[0m: 'NoneType' object has no attribute 'span'"
     ]
    }
   ],
   "metadata": {}
  },
  {
   "cell_type": "code",
   "execution_count": 49,
   "source": [
    "m = re.search(\"e$\", \"Reciting From Memory From Me\")\r\n",
    "m.span(), m.group()"
   ],
   "outputs": [
    {
     "output_type": "execute_result",
     "data": {
      "text/plain": [
       "((27, 28), 'e')"
      ]
     },
     "metadata": {},
     "execution_count": 49
    }
   ],
   "metadata": {}
  },
  {
   "cell_type": "code",
   "execution_count": 47,
   "source": [
    "m = re.search(\"}$\", \"{block}\")\r\n",
    "m.span(), m.group()"
   ],
   "outputs": [
    {
     "output_type": "execute_result",
     "data": {
      "text/plain": [
       "((6, 7), '}')"
      ]
     },
     "metadata": {},
     "execution_count": 47
    }
   ],
   "metadata": {}
  },
  {
   "cell_type": "code",
   "execution_count": 48,
   "source": [
    "m = re.search(\"}$\", \"{block} \")\r\n",
    "m.span(), m.group()"
   ],
   "outputs": [
    {
     "output_type": "error",
     "ename": "AttributeError",
     "evalue": "'NoneType' object has no attribute 'span'",
     "traceback": [
      "\u001b[1;31m---------------------------------------------------------------------------\u001b[0m",
      "\u001b[1;31mAttributeError\u001b[0m                            Traceback (most recent call last)",
      "\u001b[1;32m~\\AppData\\Local\\Temp/ipykernel_30092/1056242347.py\u001b[0m in \u001b[0;36m<module>\u001b[1;34m\u001b[0m\n\u001b[0;32m      1\u001b[0m \u001b[0mm\u001b[0m \u001b[1;33m=\u001b[0m \u001b[0mre\u001b[0m\u001b[1;33m.\u001b[0m\u001b[0msearch\u001b[0m\u001b[1;33m(\u001b[0m\u001b[1;34m\"}$\"\u001b[0m\u001b[1;33m,\u001b[0m \u001b[1;34m\"{block} \"\u001b[0m\u001b[1;33m)\u001b[0m\u001b[1;33m\u001b[0m\u001b[1;33m\u001b[0m\u001b[0m\n\u001b[1;32m----> 2\u001b[1;33m \u001b[0mm\u001b[0m\u001b[1;33m.\u001b[0m\u001b[0mspan\u001b[0m\u001b[1;33m(\u001b[0m\u001b[1;33m)\u001b[0m\u001b[1;33m,\u001b[0m \u001b[0mm\u001b[0m\u001b[1;33m.\u001b[0m\u001b[0mgroup\u001b[0m\u001b[1;33m(\u001b[0m\u001b[1;33m)\u001b[0m\u001b[1;33m\u001b[0m\u001b[1;33m\u001b[0m\u001b[0m\n\u001b[0m",
      "\u001b[1;31mAttributeError\u001b[0m: 'NoneType' object has no attribute 'span'"
     ]
    }
   ],
   "metadata": {}
  },
  {
   "cell_type": "code",
   "execution_count": 50,
   "source": [
    "m = re.search(\"}$\", \"{block}\\n\")\r\n",
    "m.span(), m.group()"
   ],
   "outputs": [
    {
     "output_type": "execute_result",
     "data": {
      "text/plain": [
       "((6, 7), '}')"
      ]
     },
     "metadata": {},
     "execution_count": 50
    }
   ],
   "metadata": {}
  },
  {
   "cell_type": "code",
   "execution_count": 51,
   "source": [
    "m = re.search(\"}$\", r\"{block}\\n\")\r\n",
    "m.span(), m.group()"
   ],
   "outputs": [
    {
     "output_type": "error",
     "ename": "AttributeError",
     "evalue": "'NoneType' object has no attribute 'span'",
     "traceback": [
      "\u001b[1;31m---------------------------------------------------------------------------\u001b[0m",
      "\u001b[1;31mAttributeError\u001b[0m                            Traceback (most recent call last)",
      "\u001b[1;32m~\\AppData\\Local\\Temp/ipykernel_30092/3858390739.py\u001b[0m in \u001b[0;36m<module>\u001b[1;34m\u001b[0m\n\u001b[0;32m      1\u001b[0m \u001b[0mm\u001b[0m \u001b[1;33m=\u001b[0m \u001b[0mre\u001b[0m\u001b[1;33m.\u001b[0m\u001b[0msearch\u001b[0m\u001b[1;33m(\u001b[0m\u001b[1;34m\"}$\"\u001b[0m\u001b[1;33m,\u001b[0m \u001b[1;34mr\"{block}\\n\"\u001b[0m\u001b[1;33m)\u001b[0m\u001b[1;33m\u001b[0m\u001b[1;33m\u001b[0m\u001b[0m\n\u001b[1;32m----> 2\u001b[1;33m \u001b[0mm\u001b[0m\u001b[1;33m.\u001b[0m\u001b[0mspan\u001b[0m\u001b[1;33m(\u001b[0m\u001b[1;33m)\u001b[0m\u001b[1;33m,\u001b[0m \u001b[0mm\u001b[0m\u001b[1;33m.\u001b[0m\u001b[0mgroup\u001b[0m\u001b[1;33m(\u001b[0m\u001b[1;33m)\u001b[0m\u001b[1;33m\u001b[0m\u001b[1;33m\u001b[0m\u001b[0m\n\u001b[0m",
      "\u001b[1;31mAttributeError\u001b[0m: 'NoneType' object has no attribute 'span'"
     ]
    }
   ],
   "metadata": {}
  },
  {
   "cell_type": "code",
   "execution_count": 54,
   "source": [
    "doc = \"find inthethethethethegroup\"\r\n",
    "p = re.compile(\"(the)+\")\r\n",
    "m = p.search(doc)\r\n",
    "m.span(), m.group()"
   ],
   "outputs": [
    {
     "output_type": "execute_result",
     "data": {
      "text/plain": [
       "((7, 22), 'thethethethethe')"
      ]
     },
     "metadata": {},
     "execution_count": 54
    }
   ],
   "metadata": {}
  },
  {
   "cell_type": "code",
   "execution_count": 60,
   "source": [
    "doc = \"find inthethethethethegroup\"\r\n",
    "p = re.compile(\"the\")\r\n",
    "m = p.findall(doc)\r\n",
    "print(m)"
   ],
   "outputs": [
    {
     "output_type": "stream",
     "name": "stdout",
     "text": [
      "['the', 'the', 'the', 'the', 'the']\n"
     ]
    }
   ],
   "metadata": {}
  },
  {
   "cell_type": "code",
   "execution_count": 63,
   "source": [
    "doc = \"This test, --++**\\\\ is short and sweet ,,... 45u4__&&##buft\"\r\n",
    "p = re.compile(\"\\W+\")\r\n",
    "\r\n",
    "p.split(doc)"
   ],
   "outputs": [
    {
     "output_type": "execute_result",
     "data": {
      "text/plain": [
       "['This', 'test', 'is', 'short', 'and', 'sweet', '45u4__', 'buft']"
      ]
     },
     "metadata": {},
     "execution_count": 63
    }
   ],
   "metadata": {}
  },
  {
   "cell_type": "code",
   "execution_count": 64,
   "source": [
    "doc.split(\" \")"
   ],
   "outputs": [
    {
     "output_type": "execute_result",
     "data": {
      "text/plain": [
       "['This',\n",
       " 'test,',\n",
       " '--++**\\\\',\n",
       " 'is',\n",
       " 'short',\n",
       " 'and',\n",
       " 'sweet',\n",
       " ',,...',\n",
       " '45u4__&&##buft']"
      ]
     },
     "metadata": {},
     "execution_count": 64
    }
   ],
   "metadata": {}
  },
  {
   "cell_type": "code",
   "execution_count": 67,
   "source": [
    "p = re.compile(\"(blue\\s|white\\s|red\\s)+\")\r\n",
    "p.sub(\"color \", \"blue red shoes and white blue red socks\")"
   ],
   "outputs": [
    {
     "output_type": "execute_result",
     "data": {
      "text/plain": [
       "'color shoes and color socks'"
      ]
     },
     "metadata": {},
     "execution_count": 67
    }
   ],
   "metadata": {}
  },
  {
   "cell_type": "code",
   "execution_count": 68,
   "source": [
    "p = re.compile(\"(blue|white|red)+\")\r\n",
    "p.sub(\"color \", \"blue red shoes and white blue red socks\")"
   ],
   "outputs": [
    {
     "output_type": "execute_result",
     "data": {
      "text/plain": [
       "'color  color  shoes and color  color  color  socks'"
      ]
     },
     "metadata": {},
     "execution_count": 68
    }
   ],
   "metadata": {}
  },
  {
   "cell_type": "code",
   "execution_count": null,
   "source": [],
   "outputs": [],
   "metadata": {}
  }
 ],
 "metadata": {
  "orig_nbformat": 4,
  "language_info": {
   "name": "python",
   "version": "3.9.6",
   "mimetype": "text/x-python",
   "codemirror_mode": {
    "name": "ipython",
    "version": 3
   },
   "pygments_lexer": "ipython3",
   "nbconvert_exporter": "python",
   "file_extension": ".py"
  },
  "kernelspec": {
   "name": "python3",
   "display_name": "Python 3.9.6 64-bit ('venv_20210724': venv)"
  },
  "interpreter": {
   "hash": "efcfa77c20aacaac161e1afeaed27c932a71ab1e50f6e93db74e37496df02c44"
  }
 },
 "nbformat": 4,
 "nbformat_minor": 2
}